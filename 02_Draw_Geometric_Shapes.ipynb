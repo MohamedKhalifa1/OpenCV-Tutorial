{
 "cells": [
  {
   "cell_type": "code",
   "execution_count": 35,
   "metadata": {},
   "outputs": [],
   "source": [
    "import cv2\n",
    "import numpy as np\n",
    "import datetime\n",
    "\n",
    "img = np.zeros([512,512,3] , np.uint8)\n",
    "img = cv2.line(img, (0,0), (255,255), (147, 96, 44), 10)  # draw line\n",
    "\n",
    "\n",
    "img = cv2.arrowedLine(img , (200,0),(444,34) ,(0, 255, 255) , 5) # arraw line\n",
    "\n",
    "img = cv2.rectangle(img , (384, 0), (510, 128), (0, 0, 255) ,10) # Draw Rectangle\n",
    "\n",
    "img = cv2.circle(img , (233,233) , 55 , (255,27,11) , 10) # if you would fill shape write -1 rather than 10\n",
    "\n",
    "font = cv2.FONT_HERSHEY_SCRIPT_SIMPLEX\n",
    "now = datetime.datetime.now().strftime(\"%H:%M:%S\")\n",
    "text = \"Time Now: \" +  now\n",
    "img = cv2.putText(img , text ,(20,40) , font ,1 , (255,255,255),2) # put time\n",
    "img = cv2.putText(img , \"OpenCV\" ,(20,400) , font ,3 , (24,38,20),10)\n",
    "img = cv2.ellipse(img,(256,256),(100,50),0,0,180,255,10) #draw ellipse\n",
    "pts = np.array([[10,5],[20,30],[70,20]], np.int32) #make array to draw it by polylines\n",
    "pts = pts.reshape((-1,1,2))#reshape it\n",
    "img = cv2.polylines(img,[pts],True,(0,255,255)) #draw polyline\n",
    "cv2.imshow(\"image\" , img)\n",
    "cv2.waitKey(0)\n",
    "cv2.destroyAllWindows()"
   ]
  }
 ],
 "metadata": {
  "kernelspec": {
   "display_name": "base",
   "language": "python",
   "name": "python3"
  },
  "language_info": {
   "codemirror_mode": {
    "name": "ipython",
    "version": 3
   },
   "file_extension": ".py",
   "mimetype": "text/x-python",
   "name": "python",
   "nbconvert_exporter": "python",
   "pygments_lexer": "ipython3",
   "version": "3.12.4"
  }
 },
 "nbformat": 4,
 "nbformat_minor": 2
}
