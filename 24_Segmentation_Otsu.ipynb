{
 "cells": [
  {
   "cell_type": "code",
   "execution_count": 12,
   "metadata": {},
   "outputs": [],
   "source": [
    "import cv2 \n",
    "import numpy as np\n",
    "import matplotlib.pyplot as plt\n",
    "\n",
    "img = cv2.imread('images/noise2.jpg' , cv2.IMREAD_GRAYSCALE)\n",
    "img = cv2.resize(img , (512,512))\n",
    "_ , th1 = cv2.threshold(img , 127,255 , cv2.THRESH_BINARY\n",
    "                        )\n",
    "_ , th2 = cv2.threshold(img , 0,255 , cv2.THRESH_BINARY + cv2.THRESH_OTSU)\n",
    "\n",
    "blur = cv2.GaussianBlur(img , (5,5) , 0)\n",
    "_ , th3 = cv2.threshold(blur , 0,255 , cv2.THRESH_BINARY + cv2.THRESH_OTSU)\n",
    "\n",
    "cv2.imshow('img',img)\n",
    "cv2.imshow('th1',th1)\n",
    "cv2.imshow('th2',th2)\n",
    "cv2.imshow('th3',th3)\n",
    "\n",
    "cv2.waitKey(0)\n",
    "cv2.destroyAllWindows()"
   ]
  }
 ],
 "metadata": {
  "kernelspec": {
   "display_name": "base",
   "language": "python",
   "name": "python3"
  },
  "language_info": {
   "codemirror_mode": {
    "name": "ipython",
    "version": 3
   },
   "file_extension": ".py",
   "mimetype": "text/x-python",
   "name": "python",
   "nbconvert_exporter": "python",
   "pygments_lexer": "ipython3",
   "version": "3.12.4"
  }
 },
 "nbformat": 4,
 "nbformat_minor": 2
}
