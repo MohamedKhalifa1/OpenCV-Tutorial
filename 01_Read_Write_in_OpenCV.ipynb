{
  "cells": [
    {
      "cell_type": "code",
      "execution_count": null,
      "metadata": {
        "colab": {
          "base_uri": "https://localhost:8080/"
        },
        "id": "QWzT1OK-nxNv",
        "outputId": "2a4f2f2e-d461-4391-d587-4f66d7137720"
      },
      "outputs": [
        {
          "name": "stdout",
          "output_type": "stream",
          "text": [
            "WIDTH =  640.0\n",
            "HEIGHT =  480.0\n"
          ]
        },
        {
          "ename": "error",
          "evalue": "OpenCV(4.10.0) D:\\a\\opencv-python\\opencv-python\\opencv\\modules\\core\\src\\matrix.cpp:434: error: (-215:Assertion failed) _step >= minstep in function 'cv::Mat::Mat'\n",
          "output_type": "error",
          "traceback": [
            "\u001b[1;31m---------------------------------------------------------------------------\u001b[0m",
            "\u001b[1;31merror\u001b[0m                                     Traceback (most recent call last)",
            "Cell \u001b[1;32mIn[3], line 9\u001b[0m\n\u001b[0;32m      5\u001b[0m out \u001b[38;5;241m=\u001b[39m cv2\u001b[38;5;241m.\u001b[39mVideoWriter(\u001b[38;5;124m'\u001b[39m\u001b[38;5;124mvideo.mp4\u001b[39m\u001b[38;5;124m'\u001b[39m , fourcc , \u001b[38;5;241m20.0\u001b[39m , (\u001b[38;5;241m640\u001b[39m , \u001b[38;5;241m480\u001b[39m))\n\u001b[0;32m      7\u001b[0m \u001b[38;5;28;01mwhile\u001b[39;00m cap\u001b[38;5;241m.\u001b[39misOpened():\n\u001b[1;32m----> 9\u001b[0m     ret , frame \u001b[38;5;241m=\u001b[39m cap\u001b[38;5;241m.\u001b[39mread()\n\u001b[0;32m     11\u001b[0m     \u001b[38;5;28;01mif\u001b[39;00m ret \u001b[38;5;241m==\u001b[39m \u001b[38;5;28;01mTrue\u001b[39;00m:\n\u001b[0;32m     12\u001b[0m         \u001b[38;5;28mprint\u001b[39m(\u001b[38;5;124m\"\u001b[39m\u001b[38;5;124mWIDTH = \u001b[39m\u001b[38;5;124m\"\u001b[39m , cap\u001b[38;5;241m.\u001b[39mget(cv2\u001b[38;5;241m.\u001b[39mCAP_PROP_FRAME_WIDTH))\n",
            "\u001b[1;31merror\u001b[0m: OpenCV(4.10.0) D:\\a\\opencv-python\\opencv-python\\opencv\\modules\\core\\src\\matrix.cpp:434: error: (-215:Assertion failed) _step >= minstep in function 'cv::Mat::Mat'\n"
          ]
        },
        {
          "ename": "",
          "evalue": "",
          "output_type": "error",
          "traceback": [
            "\u001b[1;31mThe Kernel crashed while executing code in the current cell or a previous cell. \n",
            "\u001b[1;31mPlease review the code in the cell(s) to identify a possible cause of the failure. \n",
            "\u001b[1;31mClick <a href='https://aka.ms/vscodeJupyterKernelCrash'>here</a> for more info. \n",
            "\u001b[1;31mView Jupyter <a href='command:jupyter.viewOutput'>log</a> for further details."
          ]
        }
      ],
      "source": [
        "import cv2\n",
        "\n",
        "cap = cv2.VideoCapture(0)\n",
        "fourcc = cv2.VideoWriter_fourcc(*'XVID')\n",
        "out = cv2.VideoWriter('video.mp4' , fourcc , 20.0 , (640 , 480))\n",
        "\n",
        "while cap.isOpened():\n",
        "\n",
        "    ret , frame = cap.read()\n",
        "    \n",
        "    if ret == True:\n",
        "        print(\"WIDTH = \" , cap.get(cv2.CAP_PROP_FRAME_WIDTH))\n",
        "        print(\"HEIGHT = \" ,cap.get(cv2.CAP_PROP_FRAME_HEIGHT))\n",
        "\n",
        "        #cap.set(3, 3000) #set your frame width\n",
        "        #cap.set(4, 3000) #set your frame height\n",
        "        out.write(frame)\n",
        "        gray = cv2.cvtColor(frame , cv2.COLOR_BGR2GRAY)\n",
        "        cv2.imshow('frame',gray)\n",
        "\n",
        "        if cv2.waitKey(1) & 0xFF == ord('q'):\n",
        "            break\n",
        "    else:\n",
        "        break\n",
        "cap.release()\n",
        "out.release()\n",
        "cv2.destroyAllWindows()"
      ]
    }
  ],
  "metadata": {
    "colab": {
      "provenance": []
    },
    "kernelspec": {
      "display_name": "Python 3",
      "name": "python3"
    },
    "language_info": {
      "codemirror_mode": {
        "name": "ipython",
        "version": 3
      },
      "file_extension": ".py",
      "mimetype": "text/x-python",
      "name": "python",
      "nbconvert_exporter": "python",
      "pygments_lexer": "ipython3",
      "version": "3.12.4"
    }
  },
  "nbformat": 4,
  "nbformat_minor": 0
}
