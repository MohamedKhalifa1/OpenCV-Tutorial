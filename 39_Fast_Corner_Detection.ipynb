{
 "cells": [
  {
   "cell_type": "code",
   "execution_count": 14,
   "metadata": {},
   "outputs": [],
   "source": [
    "import cv2 \n",
    "import numpy as np\n",
    "\n",
    "\n",
    "img = cv2.imread('images/chess.webp')\n",
    "img = cv2.resize(img , (512,512))\n",
    "\n",
    "fast = cv2.FastFeatureDetector_create()\n",
    "kp = fast.detect(img , None)\n",
    "img2 = cv2.drawKeypoints(img , kp ,None , (255,0,0))\n",
    "\n",
    "cv2.imshow('image1' , img)\n",
    "cv2.imshow('image2' , img2)\n",
    "\n",
    "\n",
    "cv2.waitKey(0)\n",
    "cv2.destroyAllWindows()\n",
    "\n",
    "cv2.imwrite('image1.png' , img)\n",
    "cv2.imwrite('image2.png' , img2)\n",
    "\n",
    "fast.setNonmaxSuppression(0)\n",
    "kp = fast.detect(img , None)\n",
    "img3 = cv2.drawKeypoints(img , kp ,None , (255,0,0))\n",
    "cv2.imwrite('image3.jpg' , img3)\n",
    "\n",
    "\n",
    "cv2.waitKey(0)\n",
    "cv2.destroyAllWindows()"
   ]
  }
 ],
 "metadata": {
  "kernelspec": {
   "display_name": "base",
   "language": "python",
   "name": "python3"
  },
  "language_info": {
   "codemirror_mode": {
    "name": "ipython",
    "version": 3
   },
   "file_extension": ".py",
   "mimetype": "text/x-python",
   "name": "python",
   "nbconvert_exporter": "python",
   "pygments_lexer": "ipython3",
   "version": "3.12.3"
  }
 },
 "nbformat": 4,
 "nbformat_minor": 2
}
