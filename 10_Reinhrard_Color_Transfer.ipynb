{
 "cells": [
  {
   "cell_type": "code",
   "execution_count": 6,
   "metadata": {},
   "outputs": [
    {
     "name": "stdout",
     "output_type": "stream",
     "text": [
      "img.jpg\n",
      "messi.jpg\n"
     ]
    }
   ],
   "source": [
    "import numpy as np\n",
    "import cv2\n",
    "import pandas as pd\n",
    "import os\n",
    "\n",
    "input_path = 'images/'\n",
    "input_image_list = os.listdir(input_path)\n",
    "output_path = 'output_images/'\n",
    "\n",
    "def get_mean_std(x):\n",
    "    x_mean , x_std = cv2.meanStdDev(x)\n",
    "    x_mean = np.hstack(np.around(x_mean,2))\n",
    "    x_std = np.hstack(np.around(x_std,2))\n",
    "    return x_mean , x_std\n",
    "template_image = cv2.imread('images/img.jpg')\n",
    "template_mean , template_std = get_mean_std(template_image)\n",
    "\n",
    "for img in input_image_list:\n",
    "    print(img)\n",
    "    input_image = cv2.imread(input_path+img)\n",
    "    input_image = cv2.cvtColor(input_image , cv2.COLOR_BGR2LAB)\n",
    "\n",
    "    img_mean ,img_std = get_mean_std(input_image)\n",
    "\n",
    "    height , width , channel = input_image.shape\n",
    "\n",
    "    for h in range(height):\n",
    "        for w in range(width) :\n",
    "            for c in range(channel):\n",
    "                x = input_image[h,w,c]\n",
    "\n",
    "                x = ((x - img_mean[c]) * (template_std[c]/img_std[c])) + template_mean[c]\n",
    "                x = round(x)\n",
    "\n",
    "                x = 0 if x < 0 else x\n",
    "                x = 255 if x >255 else x\n",
    "                input_image[h,w,c] = x\n",
    "    input_img = cv2.cvtColor(input_image,cv2.COLOR_LAB2BGR)\n",
    "    cv2.imwrite(output_path+'modified_'+img , input_image) "
   ]
  }
 ],
 "metadata": {
  "kernelspec": {
   "display_name": "base",
   "language": "python",
   "name": "python3"
  },
  "language_info": {
   "codemirror_mode": {
    "name": "ipython",
    "version": 3
   },
   "file_extension": ".py",
   "mimetype": "text/x-python",
   "name": "python",
   "nbconvert_exporter": "python",
   "pygments_lexer": "ipython3",
   "version": "3.12.4"
  }
 },
 "nbformat": 4,
 "nbformat_minor": 2
}
