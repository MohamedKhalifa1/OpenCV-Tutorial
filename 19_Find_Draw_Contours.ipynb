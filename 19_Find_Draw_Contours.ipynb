{
 "cells": [
  {
   "cell_type": "code",
   "execution_count": 19,
   "metadata": {},
   "outputs": [],
   "source": [
    "import cv2\n",
    "import numpy as np\n",
    "import matplotlib.pyplot as plt\n",
    "img = cv2.imread('images/open_cv.jpg')\n",
    "img_gray = cv2.cvtColor(img , cv2.COLOR_BGR2GRAY)\n",
    "ret , th = cv2.threshold(img_gray , 200 ,255 , cv2.THRESH_BINARY)\n",
    "contours ,  hirerecy = cv2.findContours(th , cv2.RETR_TREE , cv2.CHAIN_APPROX_NONE)\n",
    "cv2.drawContours(img , contours , -1 , (10,10,102) ,3 )\n",
    "cv2.drawContours(img_gray , contours , -1 , (10,10,102) ,3 )\n",
    "\n",
    "cv2.imshow('image',img)\n",
    "cv2.imshow('gray image',img_gray)\n",
    "cv2.imshow('threshold image',th)\n",
    "\n",
    "\n",
    "cv2.waitKey(0)\n",
    "cv2.destroyAllWindows()"
   ]
  }
 ],
 "metadata": {
  "kernelspec": {
   "display_name": "base",
   "language": "python",
   "name": "python3"
  },
  "language_info": {
   "codemirror_mode": {
    "name": "ipython",
    "version": 3
   },
   "file_extension": ".py",
   "mimetype": "text/x-python",
   "name": "python",
   "nbconvert_exporter": "python",
   "pygments_lexer": "ipython3",
   "version": "3.12.4"
  }
 },
 "nbformat": 4,
 "nbformat_minor": 2
}
