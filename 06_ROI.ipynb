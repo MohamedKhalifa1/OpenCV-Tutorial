{
 "cells": [
  {
   "cell_type": "code",
   "execution_count": 14,
   "metadata": {},
   "outputs": [
    {
     "name": "stdout",
     "output_type": "stream",
     "text": [
      "(512, 512, 3)\n",
      "430:500, 355:428\n"
     ]
    }
   ],
   "source": [
    "import cv2 \n",
    "import numpy as np\n",
    "\n",
    "# Read the image\n",
    "img = cv2.imread(\"images/messi.jpg\")\n",
    "\n",
    "# Resize the image to 512x512\n",
    "img = cv2.resize(img, (512, 512))\n",
    "print(img.shape)\n",
    "# Define points for cropping\n",
    "points = [(355, 430), (428, 500)]\n",
    "y1, y2 = points[-1][1], points[-2][1]\n",
    "x1, x2 = points[-1][0], points[-2][0]\n",
    "\n",
    "# Crop the region of interest (ROI)\n",
    "ball = img[y2:y1, x2:x1]\n",
    "print(f\"{y2}:{y1}, {x2}:{x1}\")\n",
    "img[y2+10:y1+10, x2-100:x1-100] = ball\n",
    "\n",
    "# Display the image\n",
    "cv2.imshow('image', img)\n",
    "cv2.waitKey(0)\n",
    "cv2.destroyAllWindows()"
   ]
  }
 ],
 "metadata": {
  "kernelspec": {
   "display_name": "base",
   "language": "python",
   "name": "python3"
  },
  "language_info": {
   "codemirror_mode": {
    "name": "ipython",
    "version": 3
   },
   "file_extension": ".py",
   "mimetype": "text/x-python",
   "name": "python",
   "nbconvert_exporter": "python",
   "pygments_lexer": "ipython3",
   "version": "3.12.4"
  }
 },
 "nbformat": 4,
 "nbformat_minor": 2
}
