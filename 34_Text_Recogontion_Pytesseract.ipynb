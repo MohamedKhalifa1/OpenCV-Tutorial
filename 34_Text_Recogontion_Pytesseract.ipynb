{
 "cells": [
  {
   "cell_type": "code",
   "execution_count": 37,
   "metadata": {},
   "outputs": [
    {
     "name": "stdout",
     "output_type": "stream",
     "text": [
      "She puts her hand on my chest and says, softly:\n",
      "\n",
      "“You're really not my type.”\n",
      "\n",
      "That knocks the wind.out of-me. drop my arms fey\n",
      "around her waist.and take a sudden, uncertain Stop bach,\n",
      "ward.\n",
      "\n",
      "She cringes, covers her face with both hands, “I dont_\n",
      "wow—.I.don’t mean you're not my type.” She’ shakes he;\n",
      "head, hard. “I just mean I don’t inormally— I don's usually\n",
      "do this.”\n",
      "\n",
      "“Do what?” I say, still wounded,\n",
      "\n",
      "“This,” she says, and gestures’ between us: “I don’t—I\n",
      "don’t, like, just go around kissing guys I barely know.”\n",
      "\n",
      "*Okay.” I frown. “Do you want to leave?”\n",
      "\n",
      "“No.” Her eyes widen.\n",
      "\n",
      "“Then what do you want?”\n",
      "\n",
      "“{ don’t know?” shé says, and her eyes go soft-agaia.\n",
      "kind’ of just want to look-at you for a minute. I meant whit\n",
      "I said about your facé,” she says; and smiles, “You have ®\n",
      "great face.” a\n",
      "\n",
      "I go suddenly weak in the knees. T literally have © :\n",
      "down. I walk over to my bed and_collapse backward\n",
      "\n",
      "62\n",
      "\n"
     ]
    }
   ],
   "source": [
    "import pytesseract\n",
    "import cv2\n",
    "import numpy as np\n",
    "\n",
    "# Correcting the variable name and path\n",
    "pytesseract.pytesseract.tesseract_cmd = r'C:\\Program Files\\Tesseract-OCR\\tesseract.exe'\n",
    "\n",
    "# Load the image\n",
    "img = cv2.imread('images/bookQuotes.jfif')\n",
    "\n",
    "# Convert to grayscale\n",
    "gray = cv2.cvtColor(img, cv2.COLOR_BGR2GRAY)\n",
    "\n",
    "# Apply adaptive thresholding\n",
    "img = cv2.adaptiveThreshold(gray, 255, cv2.ADAPTIVE_THRESH_GAUSSIAN_C, cv2.THRESH_BINARY, 11, 20)\n",
    "\n",
    "# Set the OCR configuration (e.g., Page Segmentation Mode 3)\n",
    "config = '--psm 3'\n",
    "\n",
    "# Extract text from the image using Tesseract\n",
    "text = pytesseract.image_to_string(img, config=config)\n",
    "\n",
    "# Print the extracted text\n",
    "print(text)\n",
    "\n",
    "# Display the processed image\n",
    "cv2.imshow('image', img)\n",
    "cv2.waitKey(0)\n",
    "cv2.destroyAllWindows()\n"
   ]
  }
 ],
 "metadata": {
  "kernelspec": {
   "display_name": "base",
   "language": "python",
   "name": "python3"
  },
  "language_info": {
   "codemirror_mode": {
    "name": "ipython",
    "version": 3
   },
   "file_extension": ".py",
   "mimetype": "text/x-python",
   "name": "python",
   "nbconvert_exporter": "python",
   "pygments_lexer": "ipython3",
   "version": "3.12.4"
  }
 },
 "nbformat": 4,
 "nbformat_minor": 2
}
