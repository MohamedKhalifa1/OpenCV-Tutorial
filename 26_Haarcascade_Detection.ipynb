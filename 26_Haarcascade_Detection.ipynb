{
 "cells": [
  {
   "cell_type": "code",
   "execution_count": 9,
   "metadata": {},
   "outputs": [],
   "source": [
    "import numpy as np\n",
    "import cv2\n",
    " \n",
    "cap = cv2.VideoCapture(0)\n",
    "face_haarcascade = cv2.CascadeClassifier('haarcascades/haarcascade_frontalface_default.xml')\n",
    "eye_haarcascade = cv2.CascadeClassifier('haarcascades/haarcascade_eye.xml')\n",
    "\n",
    "while cap.isOpened :\n",
    "    ret , frame = cap.read()\n",
    "    gray = cv2.cvtColor(frame , cv2.COLOR_BGR2GRAY)\n",
    "\n",
    "    faces = face_haarcascade.detectMultiScale(gray , 1.3 ,4)\n",
    "    for (x, y , w, h) in faces:\n",
    "        cv2.rectangle(frame , (x,y) , (x+w , y + h) , (0,255,0) , 3)\n",
    "        roi_gray = gray[y:y+h ,x:x+w]    \n",
    "        roi = frame[y:y+h ,x:x+w]    \n",
    "\n",
    "        eyes = eye_haarcascade.detectMultiScale(roi_gray)\n",
    "        for (ex, ey , ew, eh) in eyes:\n",
    "            cv2.rectangle(roi , (ex,ey) , (ex+ew , ey + eh) , (0, 0, 255) , 3)\n",
    "    cv2.imshow('frame' , frame)\n",
    "\n",
    "    if cv2.waitKey(1) == 27:\n",
    "        break\n",
    "cap.release()\n",
    "cv2.destroyAllWindows()\n",
    "\n",
    "\n",
    "\n"
   ]
  }
 ],
 "metadata": {
  "kernelspec": {
   "display_name": "base",
   "language": "python",
   "name": "python3"
  },
  "language_info": {
   "codemirror_mode": {
    "name": "ipython",
    "version": 3
   },
   "file_extension": ".py",
   "mimetype": "text/x-python",
   "name": "python",
   "nbconvert_exporter": "python",
   "pygments_lexer": "ipython3",
   "version": "3.12.4"
  }
 },
 "nbformat": 4,
 "nbformat_minor": 2
}
