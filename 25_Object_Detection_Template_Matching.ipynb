{
 "cells": [
  {
   "cell_type": "code",
   "execution_count": 24,
   "metadata": {},
   "outputs": [
    {
     "name": "stdout",
     "output_type": "stream",
     "text": [
      "width  60\n",
      "width  48\n",
      "[[ 0.          0.          0.         ...  0.04078805  0.03937857\n",
      "   0.03500559]\n",
      " [ 0.          0.          0.         ...  0.02506583  0.02367575\n",
      "   0.01956415]\n",
      " [ 0.          0.          0.         ...  0.00285674  0.00139176\n",
      "  -0.00259081]\n",
      " ...\n",
      " [ 0.          0.          0.         ...  0.          0.\n",
      "   0.        ]\n",
      " [ 0.          0.          0.         ...  0.          0.\n",
      "   0.        ]\n",
      " [ 0.          0.          0.         ...  0.          0.\n",
      "   0.        ]]\n",
      "[788 788 967 968] [224 225 423 423]\n",
      "224\n",
      "225\n",
      "423\n",
      "423\n"
     ]
    }
   ],
   "source": [
    "import cv2 \n",
    "import numpy as np\n",
    "import matplotlib.pyplot as plt\n",
    "\n",
    "img = cv2.imread('images/super mario.jpg')\n",
    "img_gray = cv2.cvtColor(img , cv2.COLOR_BGR2GRAY)\n",
    "template = cv2.imread('images/super mario block.jpg' , 0)\n",
    "w , h = template.shape[::-1]\n",
    "print(f'width  {w}')\n",
    "print(f'width  {h}')\n",
    "\n",
    "res = cv2.matchTemplate(img_gray , template , cv2.TM_CCOEFF_NORMED)\n",
    "print(res)\n",
    "threshold = 0.965\n",
    "loc = np.where(res >= threshold)\n",
    "print(*loc[::-1])\n",
    "\n",
    "for pt in zip(*loc[::-1]):\n",
    "    print(pt[1])\n",
    "    point = (pt[0] + w , pt[1] + h)\n",
    "    cv2.rectangle(img , pt , point , (25,24,12) , 2)\n",
    "cv2.imshow('image' , img)\n",
    "cv2.waitKey(0)\n",
    "cv2.destroyAllWindows()"
   ]
  }
 ],
 "metadata": {
  "kernelspec": {
   "display_name": "base",
   "language": "python",
   "name": "python3"
  },
  "language_info": {
   "codemirror_mode": {
    "name": "ipython",
    "version": 3
   },
   "file_extension": ".py",
   "mimetype": "text/x-python",
   "name": "python",
   "nbconvert_exporter": "python",
   "pygments_lexer": "ipython3",
   "version": "3.12.4"
  }
 },
 "nbformat": 4,
 "nbformat_minor": 2
}
