{
 "cells": [
  {
   "cell_type": "code",
   "execution_count": 21,
   "metadata": {},
   "outputs": [
    {
     "name": "stderr",
     "output_type": "stream",
     "text": [
      "<>:5: SyntaxWarning: invalid escape sequence '\\s'\n",
      "<>:5: SyntaxWarning: invalid escape sequence '\\s'\n",
      "C:\\Users\\dell\\AppData\\Local\\Temp\\ipykernel_12120\\446491683.py:5: SyntaxWarning: invalid escape sequence '\\s'\n",
      "  img = cv2.imread('images\\shappes.jpg')\n"
     ]
    }
   ],
   "source": [
    "import cv2\n",
    "import numpy as np\n",
    "import matplotlib.pyplot as plt\n",
    "\n",
    "img = cv2.imread('images\\shappes.jpg')\n",
    "img_gray = cv2.cvtColor(img , cv2.COLOR_BGR2GRAY)\n",
    "blur = cv2.GaussianBlur(img_gray , (7,7) , -1)\n",
    "_ , th = cv2.threshold(blur , 220,255,cv2.THRESH_BINARY)\n",
    "contours , herirchy = cv2.findContours(th , cv2.RETR_TREE , cv2.CHAIN_APPROX_SIMPLE)\n",
    "\n",
    "for i in range(len(contours)):\n",
    "    hull = cv2.convexHull(contours[i])\n",
    "    cv2.drawContours(img , [hull] , -1 ,(100,255,100) , 3)\n",
    "cv2.imshow('blur' , blur)\n",
    "cv2.imshow('img_gray' , img_gray)\n",
    "cv2.imshow('img' , img)\n",
    "cv2.imshow('th' , th)\n",
    "\n",
    "cv2.waitKey(0)\n",
    "cv2.destroyAllWindows()\n",
    "\n"
   ]
  }
 ],
 "metadata": {
  "kernelspec": {
   "display_name": "base",
   "language": "python",
   "name": "python3"
  },
  "language_info": {
   "codemirror_mode": {
    "name": "ipython",
    "version": 3
   },
   "file_extension": ".py",
   "mimetype": "text/x-python",
   "name": "python",
   "nbconvert_exporter": "python",
   "pygments_lexer": "ipython3",
   "version": "3.12.4"
  }
 },
 "nbformat": 4,
 "nbformat_minor": 2
}
