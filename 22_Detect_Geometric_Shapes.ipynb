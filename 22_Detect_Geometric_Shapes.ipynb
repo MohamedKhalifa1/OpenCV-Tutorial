{
 "cells": [
  {
   "cell_type": "code",
   "execution_count": 17,
   "metadata": {},
   "outputs": [
    {
     "name": "stdout",
     "output_type": "stream",
     "text": [
      "1.0\n",
      "1.0172413793103448\n",
      "1.8541666666666667\n"
     ]
    }
   ],
   "source": [
    "import cv2\n",
    "import numpy as np\n",
    "\n",
    "img = cv2.imread('images/shappes.jpg')\n",
    "gray = cv2.cvtColor(img , cv2.COLOR_BGR2GRAY)\n",
    "_ , th = cv2.threshold(gray,220,255,cv2.THRESH_BINARY)\n",
    "\n",
    "contours , _  = cv2.findContours(th , cv2.RETR_TREE , cv2.CHAIN_APPROX_SIMPLE)\n",
    "\n",
    "for contour in  contours :\n",
    "    approx = cv2.approxPolyDP(contour, 0.01* cv2.arcLength(contour, True), True)          \n",
    "\n",
    "    cv2.drawContours(img, [approx], 0, (0, 0, 0), 5)          \n",
    "\n",
    "    x = approx.ravel()[0]          \n",
    "\n",
    "    y = approx.ravel()[1] - 5           \n",
    "\n",
    "    if len(approx) == 3:          \n",
    "\n",
    "        cv2.putText(img, \"Triangle\", (x, y), cv2.FONT_HERSHEY_COMPLEX, 0.5, (0, 0, 0))               \n",
    "\n",
    "    elif len(approx) == 4 :         \n",
    "\n",
    "        x1 ,y1, w, h = cv2.boundingRect(approx)                \n",
    "\n",
    "        aspectRatio = float(w)/h                \n",
    "\n",
    "        print(aspectRatio)                \n",
    "\n",
    "        if aspectRatio >= 0.95 and aspectRatio <= 1.05:               \n",
    "\n",
    "          cv2.putText(img, \"square\", (x, y), cv2.FONT_HERSHEY_COMPLEX, 0.5, (0, 0, 0))                \n",
    "\n",
    "        else:                \n",
    "\n",
    "          cv2.putText(img, \"rectangle\", (x, y), cv2.FONT_HERSHEY_COMPLEX, 0.5, (0, 0, 0))                     \n",
    "\n",
    "    elif len(approx) == 5:           \n",
    "\n",
    "        cv2.putText(img, \"Pentagon\", (x, y), cv2.FONT_HERSHEY_COMPLEX, 0.5, (0, 0, 0))                \n",
    "\n",
    "    elif len(approx) == 10:           \n",
    "\n",
    "        cv2.putText(img, \"Star\", (x, y), cv2.FONT_HERSHEY_COMPLEX, 0.5, (0, 0, 0))                \n",
    "\n",
    "    else:            \n",
    "\n",
    "        cv2.putText(img, \"Circle\", (x, y), cv2.FONT_HERSHEY_COMPLEX, 0.5, (0, 0, 0))               \n",
    "cv2.imshow('img' , img)\n",
    "cv2.imshow('gray' , gray)\n",
    "cv2.imshow('th' , th)\n",
    "cv2.imshow('erosion' , erosion)\n",
    "cv2.imshow('dilate' , dilate)\n",
    "\n",
    "\n",
    "\n",
    "\n",
    "cv2.waitKey(0)\n",
    "cv2.destroyAllWindows()"
   ]
  }
 ],
 "metadata": {
  "kernelspec": {
   "display_name": "base",
   "language": "python",
   "name": "python3"
  },
  "language_info": {
   "codemirror_mode": {
    "name": "ipython",
    "version": 3
   },
   "file_extension": ".py",
   "mimetype": "text/x-python",
   "name": "python",
   "nbconvert_exporter": "python",
   "pygments_lexer": "ipython3",
   "version": "3.12.4"
  }
 },
 "nbformat": 4,
 "nbformat_minor": 2
}
