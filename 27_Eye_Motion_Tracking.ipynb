{
 "cells": [
  {
   "cell_type": "code",
   "execution_count": null,
   "metadata": {},
   "outputs": [],
   "source": [
    "import cv2\n",
    "import numpy as np\n",
    "\n",
    "cap = cv2.VideoCapture('videos/eye_motion.mp4' , )\n",
    "\n",
    "while cap.isOpened :\n",
    "    ret , frame = cap.read()\n",
    "    \n",
    "    if ret is False :\n",
    "        break\n",
    "\n",
    "    rows , cols , _ = frame.shape\n",
    "    print(rows , cols)\n",
    "    roi = frame[:360, : 460]\n",
    "\n",
    "    gray = cv2.cvtColor(roi , cv2.COLOR_BGR2GRAY)\n",
    "    blur = cv2.GaussianBlur(gray , (7,7) , 0)\n",
    "    _ , th = cv2.threshold(blur , 3, 255, cv2.THRESH_BINARY_INV)\n",
    "    contours , _ = cv2.findContours(th , cv2.RETR_TREE , cv2.CHAIN_APPROX_SIMPLE)\n",
    "    contours = sorted(contours , key = lambda x : cv2.contourArea(x) , reverse= True)\n",
    "\n",
    "    for cnt in contours :\n",
    "        (x , y , w , h) = cv2.boundingRect(cnt)\n",
    "        cv2.rectangle(frame , (x, y) , (x + w , y + h) , (0,255,0) , 3)\n",
    "        cv2.line(frame , ( x + int(w/2) , 0 ) , ( x + int(w/2) , rows) , (255 , 0 ,0 ) , 3)\n",
    "        cv2.line(frame , ( 0 ,  y + int(h/2) ) , (cols , y + int(h/2)) , (255 , 0 ,0 ) , 3)\n",
    "\n",
    "        break\n",
    "    cv2.imshow('frame' , frame)\n",
    "    cv2.imshow('th' , th)\n",
    "\n",
    "    if cv2.waitKey(60)  & 0xFF == 27:\n",
    "        break\n",
    "cap.release()\n",
    "cv2.destroyAllWindows()\n",
    "\n",
    "\n",
    "\n",
    "\n",
    "\n"
   ]
  }
 ],
 "metadata": {
  "kernelspec": {
   "display_name": "base",
   "language": "python",
   "name": "python3"
  },
  "language_info": {
   "codemirror_mode": {
    "name": "ipython",
    "version": 3
   },
   "file_extension": ".py",
   "mimetype": "text/x-python",
   "name": "python",
   "nbconvert_exporter": "python",
   "pygments_lexer": "ipython3",
   "version": "3.12.4"
  }
 },
 "nbformat": 4,
 "nbformat_minor": 2
}
