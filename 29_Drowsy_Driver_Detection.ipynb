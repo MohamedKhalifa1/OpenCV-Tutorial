{
 "cells": [
  {
   "cell_type": "code",
   "execution_count": 2,
   "metadata": {},
   "outputs": [
    {
     "ename": "",
     "evalue": "",
     "output_type": "error",
     "traceback": [
      "\u001b[1;31mThe Kernel crashed while executing code in the current cell or a previous cell. \n",
      "\u001b[1;31mPlease review the code in the cell(s) to identify a possible cause of the failure. \n",
      "\u001b[1;31mClick <a href='https://aka.ms/vscodeJupyterKernelCrash'>here</a> for more info. \n",
      "\u001b[1;31mView Jupyter <a href='command:jupyter.viewOutput'>log</a> for further details."
     ]
    }
   ],
   "source": [
    "import cv2\n",
    "import dlib\n",
    "from scipy.spatial import distance\n",
    "from imutils import face_utils\n",
    "import playsound\n",
    "import time\n",
    "import imutils\n",
    "\n",
    "alarm_ON = False\n",
    "model_path = 'data/shape_predictor_68_face_landmarks.dat'\n",
    "alert_sound = 'sound/digital-alarm-clock-151920.mp3'\n",
    "\n",
    "def eye_aspect_ratio(eye):\n",
    "    A = distance.euclidean(eye[1], eye[5])\n",
    "    B = distance.euclidean(eye[2], eye[4])\n",
    "    C = distance.euclidean(eye[0], eye[3])\n",
    "    ear = (A + B) / (2.0 * C)\n",
    "    return ear\n",
    "\n",
    "def detect():\n",
    "    global alarm_ON\n",
    "    threshold = 0.25\n",
    "    frame_check = 10\n",
    "    detector = dlib.get_frontal_face_detector()\n",
    "    predictor = dlib.shape_predictor(model_path)\n",
    "    (lStart, lEnd) = face_utils.FACIAL_LANDMARKS_IDXS['left_eye']\n",
    "    (rStart, rEnd) = face_utils.FACIAL_LANDMARKS_IDXS['right_eye']\n",
    "\n",
    "    cap = cv2.VideoCapture(0)\n",
    "    flag = 0\n",
    "\n",
    "    while cap.isOpened():\n",
    "        ret, frame = cap.read()\n",
    "        if not ret:\n",
    "            break\n",
    "        frame = imutils.resize(frame, width=640, height=640)\n",
    "        gray = cv2.cvtColor(frame, cv2.COLOR_BGR2GRAY)\n",
    "        faces = detector(gray, 0)\n",
    "\n",
    "        for face in faces:\n",
    "            shape = predictor(gray, face)\n",
    "            shape = face_utils.shape_to_np(shape)\n",
    "            lShape = shape[lStart:lEnd]\n",
    "            rShape = shape[rStart:rEnd]\n",
    "            left_ear = eye_aspect_ratio(lShape)\n",
    "            right_ear = eye_aspect_ratio(rShape)\n",
    "            ear = (left_ear + right_ear) / 2.0\n",
    "            leftConvexHull = cv2.convexHull(lShape)\n",
    "            rightConvexHull = cv2.convexHull(rShape)\n",
    "            cv2.drawContours(frame, [leftConvexHull], -1, (0, 255, 0), 3)\n",
    "            cv2.drawContours(frame, [rightConvexHull], -1, (0, 255, 0), 3)\n",
    "\n",
    "            if ear < threshold:\n",
    "                flag += 1\n",
    "                if flag >= frame_check:\n",
    "                    if not alarm_ON:\n",
    "                        alarm_ON = True\n",
    "                        time.sleep(0.1)\n",
    "\n",
    "                    cv2.putText(frame, '****************Drowsy!****************', (10, 30), cv2.FONT_HERSHEY_SIMPLEX, 0.7, (0, 0, 255), 2)\n",
    "                    cv2.putText(frame, 'Sleeping Time 00:' + str(flag) + ' sec', (10, 60), cv2.FONT_HERSHEY_SIMPLEX, 0.7, (0, 0, 255), 2)\n",
    "                    playsound.playsound(alert_sound, block = True)\n",
    "            else:\n",
    "                alarm_ON = False\n",
    "                flag = 0\n",
    "        cv2.imshow('frame', frame)\n",
    "        if cv2.waitKey(1) == 27:\n",
    "            break\n",
    "    cap.release()\n",
    "    cv2.destroyAllWindows()\n",
    "\n",
    "if __name__ == '__main__':\n",
    "    detect()\n"
   ]
  },
  {
   "cell_type": "code",
   "execution_count": null,
   "metadata": {},
   "outputs": [],
   "source": [
    "\n"
   ]
  }
 ],
 "metadata": {
  "kernelspec": {
   "display_name": "myenv",
   "language": "python",
   "name": "python3"
  },
  "language_info": {
   "codemirror_mode": {
    "name": "ipython",
    "version": 3
   },
   "file_extension": ".py",
   "mimetype": "text/x-python",
   "name": "python",
   "nbconvert_exporter": "python",
   "pygments_lexer": "ipython3",
   "version": "3.8.19"
  }
 },
 "nbformat": 4,
 "nbformat_minor": 2
}
