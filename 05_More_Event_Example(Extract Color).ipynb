{
 "cells": [
  {
   "cell_type": "code",
   "execution_count": 3,
   "metadata": {},
   "outputs": [],
   "source": [
    "import cv2\n",
    "import numpy as np\n",
    "def click_event(event , x, y , flag , param):\n",
    "\n",
    "    if event == cv2.EVENT_LBUTTONDOWN:\n",
    "        blue = img[y ,x , 0]\n",
    "        green = img[y ,x , 1]\n",
    "        red = img[y ,x , 2]\n",
    "\n",
    "        myColorImage = np.zeros([512,512,3] , dtype = np.uint8)\n",
    "        myColorImage[:] = [blue , green ,red]\n",
    "        cv2.imshow('color' , myColorImage)\n",
    "\n",
    "        \n",
    "\n",
    "\n",
    "#img = np.zeros([512,512,3] , dtype=np.uint8)\n",
    "img = cv2.imread('images/img.jpg')\n",
    "cv2.imshow('image' , img)\n",
    "cv2.setMouseCallback('image' , click_event)\n",
    "cv2.waitKey(0)\n",
    "cv2.destroyAllWindows()"
   ]
  }
 ],
 "metadata": {
  "kernelspec": {
   "display_name": "base",
   "language": "python",
   "name": "python3"
  },
  "language_info": {
   "codemirror_mode": {
    "name": "ipython",
    "version": 3
   },
   "file_extension": ".py",
   "mimetype": "text/x-python",
   "name": "python",
   "nbconvert_exporter": "python",
   "pygments_lexer": "ipython3",
   "version": "3.12.4"
  }
 },
 "nbformat": 4,
 "nbformat_minor": 2
}
