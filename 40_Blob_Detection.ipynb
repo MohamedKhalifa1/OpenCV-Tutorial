{
 "cells": [
  {
   "cell_type": "code",
   "execution_count": 11,
   "metadata": {},
   "outputs": [],
   "source": [
    "import cv2\n",
    "import numpy as np\n",
    "import matplotlib.pyplot as plt ;\n",
    "\n",
    "img = cv2.imread('images/Sunflower.jfif' , cv2.IMREAD_GRAYSCALE)\n",
    "detector = cv2.SimpleBlobDetector_create()\n",
    "kp = detector.detect(img)\n",
    "im_with_kp = cv2.drawKeypoints(img , kp , None, (255,0,0) , cv2.DRAW_MATCHES_FLAGS_DRAW_RICH_KEYPOINTS)\n",
    "\n",
    "cv2.imshow('image' , img)\n",
    "cv2.imshow('image with key points' , im_with_kp)\n",
    "\n",
    "cv2.waitKey(0)\n",
    "cv2.destroyAllWindows()"
   ]
  }
 ],
 "metadata": {
  "kernelspec": {
   "display_name": "base",
   "language": "python",
   "name": "python3"
  },
  "language_info": {
   "codemirror_mode": {
    "name": "ipython",
    "version": 3
   },
   "file_extension": ".py",
   "mimetype": "text/x-python",
   "name": "python",
   "nbconvert_exporter": "python",
   "pygments_lexer": "ipython3",
   "version": "3.12.3"
  }
 },
 "nbformat": 4,
 "nbformat_minor": 2
}
