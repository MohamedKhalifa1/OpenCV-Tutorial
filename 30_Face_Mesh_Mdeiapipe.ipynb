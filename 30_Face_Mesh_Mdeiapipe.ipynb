{
 "cells": [
  {
   "cell_type": "code",
   "execution_count": 1,
   "metadata": {},
   "outputs": [
    {
     "name": "stderr",
     "output_type": "stream",
     "text": [
      "c:\\Users\\dell\\anaconda3\\Lib\\site-packages\\google\\protobuf\\symbol_database.py:55: UserWarning: SymbolDatabase.GetPrototype() is deprecated. Please use message_factory.GetMessageClass() instead. SymbolDatabase.GetPrototype() will be removed soon.\n",
      "  warnings.warn('SymbolDatabase.GetPrototype() is deprecated. Please '\n"
     ]
    }
   ],
   "source": [
    "import mediapipe as mp\n",
    "import cv2 \n",
    "import numpy as np \n",
    "\n",
    "cap = cv2.VideoCapture(0)\n",
    "\n",
    "while cap.isOpened():\n",
    "    ret , frame = cap.read()\n",
    "    rgb_frame = cv2.cvtColor(frame , cv2.COLOR_BGR2RGB)\n",
    "    mp_face_mesh = mp.solutions.face_mesh.FaceMesh()\n",
    "    result = mp_face_mesh.process(rgb_frame)\n",
    "    height ,  width , _ = frame.shape\n",
    "    if result.multi_face_landmarks:\n",
    "        for facial_landmarks in result.multi_face_landmarks:\n",
    "            for i in range(0,468):\n",
    "                pt1 = facial_landmarks.landmark[i]\n",
    "                x = int(pt1.x * width)\n",
    "                y = int(pt1.y * height) \n",
    "                cv2.circle(frame , (x,y) , 1 , (100,200,0) , 2)\n",
    "    cv2.imshow('frame' , frame)\n",
    "    if cv2.waitKey(40) & 0xFF == 27:\n",
    "        break\n",
    "cap.release()\n",
    "cv2.destroyAllWindows()"
   ]
  }
 ],
 "metadata": {
  "kernelspec": {
   "display_name": "Python 3",
   "language": "python",
   "name": "python3"
  },
  "language_info": {
   "codemirror_mode": {
    "name": "ipython",
    "version": 3
   },
   "file_extension": ".py",
   "mimetype": "text/x-python",
   "name": "python",
   "nbconvert_exporter": "python",
   "pygments_lexer": "ipython3",
   "version": "3.12.4"
  }
 },
 "nbformat": 4,
 "nbformat_minor": 2
}
